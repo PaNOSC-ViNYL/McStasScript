{
 "cells": [
  {
   "cell_type": "code",
   "execution_count": null,
   "id": "thirty-runner",
   "metadata": {},
   "outputs": [],
   "source": [
    "import mcstasscript as ms"
   ]
  },
  {
   "cell_type": "markdown",
   "id": "deluxe-scroll",
   "metadata": {},
   "source": [
    "### Calculator is what I call an instrument object"
   ]
  },
  {
   "cell_type": "code",
   "execution_count": null,
   "id": "earned-ribbon",
   "metadata": {},
   "outputs": [],
   "source": [
    "calculator = ms.McStas_instr(name=\"demo_instrument\")"
   ]
  },
  {
   "cell_type": "markdown",
   "id": "inappropriate-impossible",
   "metadata": {},
   "source": [
    "### Can define parameters (libpyvinyl parameter object and collection)"
   ]
  },
  {
   "cell_type": "code",
   "execution_count": null,
   "id": "parental-albert",
   "metadata": {},
   "outputs": [],
   "source": [
    "source_energy = calculator.add_parameter(\"double\", \"source_energy\", unit=\"meV\", comment=\"Source mean energy\")\n",
    "source_energy.add_interval(3.1, None, intervals_are_legal=True)\n",
    "\n",
    "source_height = calculator.add_parameter(\"double\", \"source_height\", unit=\"cm\", comment=\"Height of source\")\n",
    "source_height.add_interval(0.01, 0.2, intervals_are_legal=True)\n",
    "\n",
    "sample_height = calculator.add_parameter(\"sample_height\", unit=\"cm\", comment=\"Height of sample\")\n",
    "sample_height.add_interval(0.0, 0.05, intervals_are_legal=True)\n",
    "\n",
    "source_energy_spread = calculator.add_declare_var(\"double\", \"source_energy_spread\")\n",
    "calculator.append_initialize(\"source_energy_spread = 0.02*source_energy;\")"
   ]
  },
  {
   "cell_type": "code",
   "execution_count": null,
   "id": "incident-nitrogen",
   "metadata": {},
   "outputs": [],
   "source": [
    "calculator.show_parameters()"
   ]
  },
  {
   "cell_type": "code",
   "execution_count": null,
   "id": "subjective-battle",
   "metadata": {},
   "outputs": [],
   "source": [
    "print(calculator.parameters)"
   ]
  },
  {
   "cell_type": "markdown",
   "id": "weird-dependence",
   "metadata": {},
   "source": [
    "### Can add components to the simulation as usual"
   ]
  },
  {
   "cell_type": "code",
   "execution_count": null,
   "id": "accomplished-twelve",
   "metadata": {},
   "outputs": [],
   "source": [
    "src = calculator.add_component(\"source\", \"Source_div\")"
   ]
  },
  {
   "cell_type": "code",
   "execution_count": null,
   "id": "foreign-developer",
   "metadata": {},
   "outputs": [],
   "source": [
    "src.xwidth = 0.12\n",
    "src.yheight = source_height\n",
    "src.E0 = source_energy\n",
    "src.dE = source_energy_spread\n",
    "src.focus_aw = 3.0\n",
    "src.focus_ah = 4.0"
   ]
  },
  {
   "cell_type": "code",
   "execution_count": null,
   "id": "champion-knife",
   "metadata": {},
   "outputs": [],
   "source": [
    "sample = calculator.add_component(\"powder\", \"PowderN\")"
   ]
  },
  {
   "cell_type": "code",
   "execution_count": null,
   "id": "wrong-retailer",
   "metadata": {},
   "outputs": [],
   "source": [
    "sample.set_AT(1, RELATIVE=src)\n",
    "sample.reflections='\"Ni.laz\"'\n",
    "sample.radius = 0.01\n",
    "sample.yheight = sample_height"
   ]
  },
  {
   "cell_type": "code",
   "execution_count": null,
   "id": "anticipated-tampa",
   "metadata": {},
   "outputs": [],
   "source": [
    "calculator.available_components(\"monitors\")"
   ]
  },
  {
   "cell_type": "code",
   "execution_count": null,
   "id": "experienced-arizona",
   "metadata": {},
   "outputs": [],
   "source": [
    "calculator.component_help(\"Cyl_monitor\")"
   ]
  },
  {
   "cell_type": "code",
   "execution_count": null,
   "id": "wooden-helicopter",
   "metadata": {},
   "outputs": [],
   "source": [
    "cyl = calculator.add_component(\"cyl_monitor\", \"Cyl_monitor\")"
   ]
  },
  {
   "cell_type": "code",
   "execution_count": null,
   "id": "preliminary-training",
   "metadata": {},
   "outputs": [],
   "source": [
    "cyl.nr = 200\n",
    "cyl.filename = '\"cylinder.dat\"'\n",
    "cyl.yheight = 0.2\n",
    "cyl.radius = 0.5\n",
    "cyl.restore_neutron = 1\n",
    "cyl.set_AT(0, RELATIVE=sample)"
   ]
  },
  {
   "cell_type": "code",
   "execution_count": null,
   "id": "official-withdrawal",
   "metadata": {},
   "outputs": [],
   "source": [
    "mon = calculator.add_component(\"acceptance_horizontal\", \"DivPos_monitor\")"
   ]
  },
  {
   "cell_type": "code",
   "execution_count": null,
   "id": "colored-policy",
   "metadata": {},
   "outputs": [],
   "source": [
    "mon.xwidth = 0.2\n",
    "mon.yheight = 0.2\n",
    "mon.maxdiv = 30.0\n",
    "mon.filename = '\"acceptance_h.dat\"'\n",
    "mon.restore_neutron = 1\n",
    "mon.nb = 300\n",
    "mon.ndiv = 300\n",
    "mon.set_AT(0.1, RELATIVE=sample)"
   ]
  },
  {
   "cell_type": "code",
   "execution_count": null,
   "id": "based-torture",
   "metadata": {},
   "outputs": [],
   "source": [
    "calculator.show_components()"
   ]
  },
  {
   "cell_type": "markdown",
   "id": "august-words",
   "metadata": {},
   "source": [
    "### Old syntax"
   ]
  },
  {
   "cell_type": "code",
   "execution_count": null,
   "id": "prescription-whole",
   "metadata": {},
   "outputs": [],
   "source": [
    "old_data = calculator.run_full_instrument(parameters={\"source_energy\": 320, \"source_height\":0.025, \"sample_height\":0.04},\n",
    "                               ncount=2E6, foldername=\"run_full_instrument_path\")"
   ]
  },
  {
   "cell_type": "markdown",
   "id": "domestic-bearing",
   "metadata": {},
   "source": [
    "### New libpyvinyl syntax"
   ]
  },
  {
   "cell_type": "code",
   "execution_count": null,
   "id": "independent-millennium",
   "metadata": {},
   "outputs": [],
   "source": [
    "calculator.set_parameters(source_energy=320, source_height=0.025, sample_height=0.04)"
   ]
  },
  {
   "cell_type": "code",
   "execution_count": null,
   "id": "smooth-cholesterol",
   "metadata": {},
   "outputs": [],
   "source": [
    "calculator.settings(ncount=5E6, mpi=2, output_path=\"path_to_output\")"
   ]
  },
  {
   "cell_type": "markdown",
   "id": "dependent-garlic",
   "metadata": {},
   "source": [
    "### Run with backengine"
   ]
  },
  {
   "cell_type": "code",
   "execution_count": null,
   "id": "daily-louisiana",
   "metadata": {},
   "outputs": [],
   "source": [
    "data = calculator.backengine()"
   ]
  },
  {
   "cell_type": "markdown",
   "id": "under-walnut",
   "metadata": {},
   "source": [
    "### Get data later"
   ]
  },
  {
   "cell_type": "code",
   "execution_count": null,
   "id": "committed-hardwood",
   "metadata": {},
   "outputs": [],
   "source": [
    "calculator.output.get_data()[\"data\"]"
   ]
  },
  {
   "cell_type": "markdown",
   "id": "engaged-syria",
   "metadata": {},
   "source": [
    "### Plot data"
   ]
  },
  {
   "cell_type": "code",
   "execution_count": null,
   "id": "retired-brick",
   "metadata": {},
   "outputs": [],
   "source": [
    "ms.make_sub_plot(data, log=True, cut_max=0.011, orders_of_mag=1.5)"
   ]
  },
  {
   "cell_type": "markdown",
   "id": "medieval-packaging",
   "metadata": {},
   "source": [
    "### Store in dump file"
   ]
  },
  {
   "cell_type": "code",
   "execution_count": null,
   "id": "affiliated-british",
   "metadata": {},
   "outputs": [],
   "source": [
    "calculator.dump(\"dump_file.dmp\")"
   ]
  },
  {
   "cell_type": "markdown",
   "id": "spatial-peace",
   "metadata": {},
   "source": [
    "### Load from dump file"
   ]
  },
  {
   "cell_type": "code",
   "execution_count": null,
   "id": "pleasant-machine",
   "metadata": {},
   "outputs": [],
   "source": [
    "from_dump = ms.McStas_instr.from_dump('dump_file.dmp')"
   ]
  },
  {
   "cell_type": "code",
   "execution_count": null,
   "id": "modified-brooks",
   "metadata": {},
   "outputs": [],
   "source": [
    "print(from_dump.name)\n",
    "from_dump.show_parameters()\n",
    "from_dump.show_components()\n",
    "from_dump.write_full_instrument()"
   ]
  },
  {
   "cell_type": "code",
   "execution_count": null,
   "id": "divine-digit",
   "metadata": {},
   "outputs": [],
   "source": [
    "with open(\"demo_instrument.instr\", \"r\") as f:\n",
    "    instrument_file = f.read()\n",
    "print(instrument_file)"
   ]
  },
  {
   "cell_type": "code",
   "execution_count": null,
   "id": "knowing-solution",
   "metadata": {},
   "outputs": [],
   "source": []
  }
 ],
 "metadata": {
  "kernelspec": {
   "display_name": "Python 3",
   "language": "python",
   "name": "python3"
  },
  "language_info": {
   "codemirror_mode": {
    "name": "ipython",
    "version": 3
   },
   "file_extension": ".py",
   "mimetype": "text/x-python",
   "name": "python",
   "nbconvert_exporter": "python",
   "pygments_lexer": "ipython3",
   "version": "3.8.8"
  }
 },
 "nbformat": 4,
 "nbformat_minor": 5
}
