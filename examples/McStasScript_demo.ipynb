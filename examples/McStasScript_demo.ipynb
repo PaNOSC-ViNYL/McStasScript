{
 "cells": [
  {
   "cell_type": "markdown",
   "metadata": {},
   "source": [
    "# Demonstration of McStasScript\n",
    "This file demonstrates how McStasScript can be used to run McStas from a python environment in a userfreindly manner."
   ]
  },
  {
   "cell_type": "code",
   "execution_count": 1,
   "metadata": {},
   "outputs": [
    {
     "name": "stdout",
     "output_type": "stream",
     "text": [
      "The following components are found in the work_directory / input_path:\n",
      "     Union_sphere.comp\n",
      "     Texture_process.comp\n",
      "     Union_cone.comp\n",
      "     Union_box.comp\n",
      "     Single_crystal_process.comp\n",
      "     Union_abs_logger_2D_space.comp\n",
      "     Union_logger_2D_kf.comp\n",
      "     Template_process.comp\n",
      "     PhononSimple_process.comp\n",
      "     Union_conditional_standard.comp\n",
      "     Union_abs_logger_1D_space.comp\n",
      "     Union_abs_logger_event.comp\n",
      "     NCrystal_process.comp\n",
      "     Union_abs_logger_1D_space_event.comp\n",
      "     Union_abs_logger_1D_space_tof.comp\n",
      "     Union_logger_2D_space.comp\n",
      "     Union_conditional_PSD.comp\n",
      "     Union_master.comp\n",
      "     AF_HB_1D_process.comp\n",
      "     Union_logger_2D_kf_time.comp\n",
      "     Union_cylinder.comp\n",
      "     Union_abs_logger_1D_space_tof_to_lambda.comp\n",
      "     Powder_process.comp\n",
      "     Union_make_material.comp\n",
      "     Incoherent_process.comp\n",
      "     Union_logger_1D.comp\n",
      "     Union_logger_3D_space.comp\n",
      "     IncoherentPhonon_process.comp\n",
      "     Union_logger_2DQ.comp\n",
      "     Union_mesh.comp\n",
      "     Union_logger_2D_space_time.comp\n",
      "These definitions will be used instead of the installed versions.\n"
     ]
    }
   ],
   "source": [
    "import mcstasscript as ms\n",
    "\n",
    "# Creating the instance of the class, insert path to mcrun and to mcstas root directory\n",
    "instr = ms.McStas_instr(\"jupyter_demo\")"
   ]
  },
  {
   "cell_type": "markdown",
   "metadata": {},
   "source": [
    "The instrument object knows what components are available in this McStas installation and can provide some help."
   ]
  },
  {
   "cell_type": "code",
   "execution_count": 2,
   "metadata": {},
   "outputs": [
    {
     "name": "stdout",
     "output_type": "stream",
     "text": [
      "Here are the available component categories:\n",
      " contrib\n",
      " misc\n",
      " monitors\n",
      " obsolete\n",
      " optics\n",
      " samples\n",
      " sources\n",
      " work directory\n",
      "Call available_components(category_name) to display\n"
     ]
    }
   ],
   "source": [
    "instr.available_components() # Shows available McStas component categories in current installation"
   ]
  },
  {
   "cell_type": "code",
   "execution_count": 3,
   "metadata": {},
   "outputs": [
    {
     "name": "stdout",
     "output_type": "stream",
     "text": [
      "Here are all components in the sources category.\n",
      " Adapt_check     Moderator           Source_Optimizer   Source_gen\n",
      " ESS_butterfly   Monitor_Optimizer   Source_adapt       Source_simple\n",
      " ESS_moderator   Source_Maxwell_3    Source_div         \n"
     ]
    }
   ],
   "source": [
    "instr.available_components(\"sources\") # Display all McStas source components "
   ]
  },
  {
   "cell_type": "code",
   "execution_count": 4,
   "metadata": {},
   "outputs": [
    {
     "name": "stdout",
     "output_type": "stream",
     "text": [
      " ___ Help Source_simple _____________________________________________________________\n",
      "|\u001b[1moptional parameter\u001b[0m|\u001b[1m\u001b[4mrequired parameter\u001b[0m\u001b[0m|\u001b[1m\u001b[94mdefault value\u001b[0m\u001b[0m|\u001b[1m\u001b[92muser specified value\u001b[0m\u001b[0m|\n",
      "\u001b[1mradius\u001b[0m = \u001b[1m\u001b[94m0.1\u001b[0m\u001b[0m [m] // Radius of circle in (x,y,0) plane where neutrons are \n",
      "                    generated. \n",
      "\u001b[1myheight\u001b[0m = \u001b[1m\u001b[94m0.0\u001b[0m\u001b[0m [m] // Height of rectangle in (x,y,0) plane where neutrons are \n",
      "                     generated. \n",
      "\u001b[1mxwidth\u001b[0m = \u001b[1m\u001b[94m0.0\u001b[0m\u001b[0m [m] // Width of rectangle in (x,y,0) plane where neutrons are \n",
      "                    generated. \n",
      "\u001b[1mdist\u001b[0m = \u001b[1m\u001b[94m0.0\u001b[0m\u001b[0m [m] // Distance to target along z axis.\n",
      "\u001b[1mfocus_xw\u001b[0m = \u001b[1m\u001b[94m0.045\u001b[0m\u001b[0m [m] // Width of target\n",
      "\u001b[1mfocus_yh\u001b[0m = \u001b[1m\u001b[94m0.12\u001b[0m\u001b[0m [m] // Height of target\n",
      "\u001b[1mE0\u001b[0m = \u001b[1m\u001b[94m0.0\u001b[0m\u001b[0m [meV] // Mean energy of neutrons.\n",
      "\u001b[1mdE\u001b[0m = \u001b[1m\u001b[94m0.0\u001b[0m\u001b[0m [meV] // Energy half spread of neutrons (flat or gaussian sigma).\n",
      "\u001b[1mlambda0\u001b[0m = \u001b[1m\u001b[94m0.0\u001b[0m\u001b[0m [AA] // Mean wavelength of neutrons.\n",
      "\u001b[1mdlambda\u001b[0m = \u001b[1m\u001b[94m0.0\u001b[0m\u001b[0m [AA] // Wavelength half spread of neutrons.\n",
      "\u001b[1mflux\u001b[0m = \u001b[1m\u001b[94m1.0\u001b[0m\u001b[0m [1/(s*cm**2*st*energy unit)] // flux per energy unit, Angs or meV if \n",
      "                                           flux=0, the source emits 1 in 4*PI whole \n",
      "                                           space. \n",
      "\u001b[1mgauss\u001b[0m = \u001b[1m\u001b[94m0.0\u001b[0m\u001b[0m [1] // Gaussian (1) or Flat (0) energy/wavelength distribution\n",
      "\u001b[1mtarget_index\u001b[0m = \u001b[1m\u001b[94m1\u001b[0m\u001b[0m [1] // relative index of component to focus at, e.g. next is \n",
      "                        +1 this is used to compute 'dist' automatically. \n",
      "-------------------------------------------------------------------------------------\n"
     ]
    }
   ],
   "source": [
    "instr.component_help(\"Source_simple\") # Displays help on the Source_simple component"
   ]
  },
  {
   "cell_type": "markdown",
   "metadata": {},
   "source": [
    "First a *Source_simple* component called *Source* is added."
   ]
  },
  {
   "cell_type": "code",
   "execution_count": 5,
   "metadata": {},
   "outputs": [],
   "source": [
    "source = instr.add_component(\"Source\", \"Source_simple\") # Adds an instance of Source_simple"
   ]
  },
  {
   "cell_type": "markdown",
   "metadata": {},
   "source": [
    "One way to adjust the parameters of a component is to access them directly as attributes."
   ]
  },
  {
   "cell_type": "code",
   "execution_count": 6,
   "metadata": {},
   "outputs": [],
   "source": [
    "source.xwidth = 0.06\n",
    "source.yheight = 0.08;\n",
    "source.dist = 2\n",
    "source.focus_xw = 0.05\n",
    "source.focus_yh = 0.05\n",
    "source.flux = 1E8"
   ]
  },
  {
   "cell_type": "markdown",
   "metadata": {},
   "source": [
    "It is possible to create parameter objects and use these directly as input to component parameters."
   ]
  },
  {
   "cell_type": "code",
   "execution_count": 7,
   "metadata": {},
   "outputs": [],
   "source": [
    "wavelength = instr.add_parameter(\"double\", \"wavelength\", value=3, comment=\"[AA] Wavelength emmited from source\")\n",
    "source.lambda0 = wavelength\n",
    "source.dlambda = 0.05"
   ]
  },
  {
   "cell_type": "code",
   "execution_count": 8,
   "metadata": {},
   "outputs": [
    {
     "name": "stdout",
     "output_type": "stream",
     "text": [
      "COMPONENT Source = Source_simple\n",
      "  \u001b[1myheight\u001b[0m = \u001b[1m\u001b[92m0.08\u001b[0m\u001b[0m [m]\n",
      "  \u001b[1mxwidth\u001b[0m = \u001b[1m\u001b[92m0.06\u001b[0m\u001b[0m [m]\n",
      "  \u001b[1mdist\u001b[0m = \u001b[1m\u001b[92m2\u001b[0m\u001b[0m [m]\n",
      "  \u001b[1mfocus_xw\u001b[0m = \u001b[1m\u001b[92m0.05\u001b[0m\u001b[0m [m]\n",
      "  \u001b[1mfocus_yh\u001b[0m = \u001b[1m\u001b[92m0.05\u001b[0m\u001b[0m [m]\n",
      "  \u001b[1mlambda0\u001b[0m = \u001b[1m\u001b[92mwavelength\u001b[0m\u001b[0m [AA]\n",
      "  \u001b[1mdlambda\u001b[0m = \u001b[1m\u001b[92m0.05\u001b[0m\u001b[0m [AA]\n",
      "  \u001b[1mflux\u001b[0m = \u001b[1m\u001b[92m100000000.0\u001b[0m\u001b[0m [1/(s*cm**2*st*energy unit)]\n",
      "AT [0, 0, 0] ABSOLUTE\n"
     ]
    }
   ],
   "source": [
    "print(source) # Verify that the information is correct"
   ]
  },
  {
   "cell_type": "markdown",
   "metadata": {},
   "source": [
    "Next a guide is added and a comment is included."
   ]
  },
  {
   "cell_type": "code",
   "execution_count": 9,
   "metadata": {},
   "outputs": [],
   "source": [
    "guide = instr.add_component(\"Guide\", \"Guide_gravity\", AT=[0,0,2], RELATIVE=\"Source\")\n",
    "guide.set_comment = \"Beam extraction and first guide piece\""
   ]
  },
  {
   "cell_type": "code",
   "execution_count": 10,
   "metadata": {},
   "outputs": [
    {
     "name": "stdout",
     "output_type": "stream",
     "text": [
      " ___ Help Guide_gravity _____________________________________________________________\n",
      "|\u001b[1moptional parameter\u001b[0m|\u001b[1m\u001b[4mrequired parameter\u001b[0m\u001b[0m|\u001b[1m\u001b[94mdefault value\u001b[0m\u001b[0m|\u001b[1m\u001b[92muser specified value\u001b[0m\u001b[0m|\n",
      "\u001b[4m\u001b[1mw1\u001b[0m\u001b[0m [m] // Width at the guide entry\n",
      "\u001b[4m\u001b[1mh1\u001b[0m\u001b[0m [m] // Height at the guide entry\n",
      "\u001b[1mw2\u001b[0m = \u001b[1m\u001b[94m0.0\u001b[0m\u001b[0m [m] // Width at the guide exit. If 0, use w1.\n",
      "\u001b[1mh2\u001b[0m = \u001b[1m\u001b[94m0.0\u001b[0m\u001b[0m [m] // Height at the guide exit. If 0, use h1.\n",
      "\u001b[4m\u001b[1ml\u001b[0m\u001b[0m [m] // length of guide\n",
      "\u001b[1mR0\u001b[0m = \u001b[1m\u001b[94m0.995\u001b[0m\u001b[0m [1] // Low-angle reflectivity\n",
      "\u001b[1mQc\u001b[0m = \u001b[1m\u001b[94m0.0218\u001b[0m\u001b[0m [AA-1] // Critical scattering vector\n",
      "\u001b[1malpha\u001b[0m = \u001b[1m\u001b[94m4.38\u001b[0m\u001b[0m [AA] // Slope of reflectivity\n",
      "\u001b[1mm\u001b[0m = \u001b[1m\u001b[94m1.0\u001b[0m\u001b[0m [1] // m-value of material. Zero means completely absorbing. m=0.65  \n",
      "               glass/SiO2 Si   Ni  Ni58  supermirror Be    Diamond m=  0.65       \n",
      "               0.47 1   1.18  2-6         1.01  1.12 for glass/SiO2, m=1 for Ni, \n",
      "               1.2 for Ni58, m=2-6 for supermirror. m=0.47 for Si \n",
      "\u001b[1mW\u001b[0m = \u001b[1m\u001b[94m0.003\u001b[0m\u001b[0m [AA-1] // Width of supermirror cut-off\n",
      "\u001b[1mnslit\u001b[0m = \u001b[1m\u001b[94m1.0\u001b[0m\u001b[0m [1] // Number of vertical channels in the guide (>= 1) (nslit-1 \n",
      "                   vertical dividing walls). \n",
      "\u001b[1md\u001b[0m = \u001b[1m\u001b[94m0.0005\u001b[0m\u001b[0m [m] // Thickness of subdividing walls\n",
      "\u001b[1mmleft\u001b[0m = \u001b[1m\u001b[94m-1.0\u001b[0m\u001b[0m [1] // m-value of material for left.   vert. mirror\n",
      "\u001b[1mmright\u001b[0m = \u001b[1m\u001b[94m-1.0\u001b[0m\u001b[0m [1] // m-value of material for right.  vert. mirror\n",
      "\u001b[1mmtop\u001b[0m = \u001b[1m\u001b[94m-1.0\u001b[0m\u001b[0m [1] // m-value of material for top.    horz. mirror\n",
      "\u001b[1mmbottom\u001b[0m = \u001b[1m\u001b[94m-1.0\u001b[0m\u001b[0m [1] // m-value of material for bottom. horz. mirror\n",
      "\u001b[1mnhslit\u001b[0m = \u001b[1m\u001b[94m1.0\u001b[0m\u001b[0m [1] // Number of horizontal channels in the guide (>= 1). \n",
      "                    (nhslit-1 horizontal dividing walls). this enables to have \n",
      "                    nslit*nhslit rectangular channels \n",
      "\u001b[1mG\u001b[0m = \u001b[1m\u001b[94m0.0\u001b[0m\u001b[0m [m/s2] // Gravitation norm. 0 value disables G effects.\n",
      "\u001b[1maleft\u001b[0m = \u001b[1m\u001b[94m-1.0\u001b[0m\u001b[0m [1] // alpha-value of left  vert. mirror\n",
      "\u001b[1maright\u001b[0m = \u001b[1m\u001b[94m-1.0\u001b[0m\u001b[0m [1] // alpha-value of right vert. mirror\n",
      "\u001b[1matop\u001b[0m = \u001b[1m\u001b[94m-1.0\u001b[0m\u001b[0m [1] // alpha-value of top   horz. mirror\n",
      "\u001b[1mabottom\u001b[0m = \u001b[1m\u001b[94m-1.0\u001b[0m\u001b[0m [1] // alpha-value of left  horz. mirror\n",
      "\u001b[1mwavy\u001b[0m = \u001b[1m\u001b[94m0.0\u001b[0m\u001b[0m [deg] // Global guide waviness\n",
      "\u001b[1mwavy_z\u001b[0m = \u001b[1m\u001b[94m0.0\u001b[0m\u001b[0m [deg] // Partial waviness along propagation axis\n",
      "\u001b[1mwavy_tb\u001b[0m = \u001b[1m\u001b[94m0.0\u001b[0m\u001b[0m [deg] // Partial waviness in transverse direction for top/bottom \n",
      "                       mirrors \n",
      "\u001b[1mwavy_lr\u001b[0m = \u001b[1m\u001b[94m0.0\u001b[0m\u001b[0m [deg] // Partial waviness in transverse direction for left/right \n",
      "                       mirrors \n",
      "\u001b[1mchamfers\u001b[0m = \u001b[1m\u001b[94m0.0\u001b[0m\u001b[0m [m] // Global chamfers specifications (in/out/mirror sides).\n",
      "\u001b[1mchamfers_z\u001b[0m = \u001b[1m\u001b[94m0.0\u001b[0m\u001b[0m [m] // Input and output chamfers\n",
      "\u001b[1mchamfers_lr\u001b[0m = \u001b[1m\u001b[94m0.0\u001b[0m\u001b[0m [m] // Chamfers on left/right mirror sides\n",
      "\u001b[1mchamfers_tb\u001b[0m = \u001b[1m\u001b[94m0.0\u001b[0m\u001b[0m [m] // Chamfers on top/bottom mirror sides\n",
      "\u001b[1mnelements\u001b[0m = \u001b[1m\u001b[94m1.0\u001b[0m\u001b[0m [1] // Number of sections in the guide (length l/nelements).\n",
      "\u001b[1mnu\u001b[0m = \u001b[1m\u001b[94m0.0\u001b[0m\u001b[0m [Hz] // Rotation frequency (round/s) for Fermi Chopper approximation\n",
      "\u001b[1mphase\u001b[0m = \u001b[1m\u001b[94m0.0\u001b[0m\u001b[0m [deg] // Phase shift for the Fermi Chopper approximation\n",
      "\u001b[1mreflect\u001b[0m = \u001b[1m\u001b[94m\"NULL\"\u001b[0m\u001b[0m [str] // Reflectivity file name. Format <q(Angs-1) R(0-1)>\n",
      "-------------------------------------------------------------------------------------\n"
     ]
    }
   ],
   "source": [
    "guide.show_parameters() # Lets view the parameters available in our guide component"
   ]
  },
  {
   "cell_type": "code",
   "execution_count": 11,
   "metadata": {},
   "outputs": [],
   "source": [
    "guide.set_parameters(w1=0.05, w2=0.05, h1=0.05, h2=0.05, l=8, m=3.5, G=-9.2)"
   ]
  },
  {
   "cell_type": "code",
   "execution_count": 12,
   "metadata": {},
   "outputs": [
    {
     "name": "stdout",
     "output_type": "stream",
     "text": [
      "COMPONENT Guide = Guide_gravity\n",
      "  \u001b[1mw1\u001b[0m = \u001b[1m\u001b[92m0.05\u001b[0m\u001b[0m [m]\n",
      "  \u001b[1mh1\u001b[0m = \u001b[1m\u001b[92m0.05\u001b[0m\u001b[0m [m]\n",
      "  \u001b[1mw2\u001b[0m = \u001b[1m\u001b[92m0.05\u001b[0m\u001b[0m [m]\n",
      "  \u001b[1mh2\u001b[0m = \u001b[1m\u001b[92m0.05\u001b[0m\u001b[0m [m]\n",
      "  \u001b[1ml\u001b[0m = \u001b[1m\u001b[92m8\u001b[0m\u001b[0m [m]\n",
      "  \u001b[1mm\u001b[0m = \u001b[1m\u001b[92m3.5\u001b[0m\u001b[0m [1]\n",
      "  \u001b[1mG\u001b[0m = \u001b[1m\u001b[92m-9.2\u001b[0m\u001b[0m [m/s2]\n",
      "AT [0, 0, 2] RELATIVE Source\n"
     ]
    }
   ],
   "source": [
    "print(guide) # Verify the information on this component is correct"
   ]
  },
  {
   "cell_type": "markdown",
   "metadata": {},
   "source": [
    "Keyword arguments can be used to specify properties like location when a component is added."
   ]
  },
  {
   "cell_type": "code",
   "execution_count": 13,
   "metadata": {},
   "outputs": [],
   "source": [
    "# Add a sample to the instrument\n",
    "sample = instr.add_component(\"sample\", \"PowderN\", AT=[0, 0, 9], RELATIVE=\"Guide\") "
   ]
  },
  {
   "cell_type": "code",
   "execution_count": 14,
   "metadata": {},
   "outputs": [],
   "source": [
    "# Set parameters corresponding to a copper cylinder\n",
    "sample.radius = 0.015\n",
    "sample.yheight = 0.05\n",
    "sample.reflections = '\"Cu.laz\"'"
   ]
  },
  {
   "cell_type": "code",
   "execution_count": 15,
   "metadata": {},
   "outputs": [
    {
     "name": "stdout",
     "output_type": "stream",
     "text": [
      "Here are all components in the monitors category.\n",
      " Brilliance_monitor      Monitor_Sqw           Pol_monitor\n",
      " Cyl_monitor             Monitor_nD            PreMonitor_nD\n",
      " DivLambda_monitor       PSD_TOF_monitor       Res_monitor\n",
      " DivPos_monitor          PSD_monitor           Sqq_w_monitor\n",
      " Divergence_monitor      PSD_monitor_4PI       Sqw_monitor\n",
      " EPSD_monitor            PSD_monitor_TOF       TOF2E_monitor\n",
      " E_monitor               PSD_monitor_psf       TOF2Q_cylPSD_monitor\n",
      " Event_monitor_simple    PSD_monitor_psf_eff   TOFLambda_monitor\n",
      " Hdiv_monitor            PSDcyl_monitor        TOF_PSD_monitor_rad\n",
      " L_monitor               PSDlin_diff_monitor   TOF_cylPSD_monitor\n",
      " MeanPolLambda_monitor   PSDlin_monitor        TOF_monitor\n",
      " Monitor                 PolLambda_monitor     TOFlog_monitor\n",
      " Monitor_4PI             PolTOF_monitor        \n"
     ]
    }
   ],
   "source": [
    "instr.available_components(\"monitors\") # Monitors are needed to record information"
   ]
  },
  {
   "cell_type": "code",
   "execution_count": 16,
   "metadata": {},
   "outputs": [],
   "source": [
    "# Add 4PI detector to detect all neutrons\n",
    "sphere = instr.add_component(\"PSD_4PI\", \"PSD_monitor_4PI\", RELATIVE=\"sample\")"
   ]
  },
  {
   "cell_type": "code",
   "execution_count": 17,
   "metadata": {},
   "outputs": [
    {
     "name": "stdout",
     "output_type": "stream",
     "text": [
      "COMPONENT PSD_4PI = PSD_monitor_4PI\n",
      "  \u001b[1mnx\u001b[0m = \u001b[1m\u001b[92m300\u001b[0m\u001b[0m [1]\n",
      "  \u001b[1mny\u001b[0m = \u001b[1m\u001b[92m300\u001b[0m\u001b[0m [1]\n",
      "  \u001b[1mfilename\u001b[0m = \u001b[1m\u001b[92m\"PSD_4PI.dat\"\u001b[0m\u001b[0m [string]\n",
      "  \u001b[1mradius\u001b[0m = \u001b[1m\u001b[92m1\u001b[0m\u001b[0m [m]\n",
      "  \u001b[1mrestore_neutron\u001b[0m = \u001b[1m\u001b[92m1\u001b[0m\u001b[0m [1]\n",
      "AT [0, 0, 0] RELATIVE sample\n"
     ]
    }
   ],
   "source": [
    "sphere.nx = 300\n",
    "sphere.ny = 300\n",
    "sphere.radius = 1\n",
    "sphere.restore_neutron = 1\n",
    "sphere.filename = '\"PSD_4PI.dat\"' # filenames need printed quotes, use both ' and \"\n",
    "print(sphere) # Verify that monitors have filenames that are strings when printed"
   ]
  },
  {
   "cell_type": "code",
   "execution_count": 18,
   "metadata": {},
   "outputs": [],
   "source": [
    "# Add PSD monitor to see the direct beam after the sample\n",
    "PSD = instr.add_component(\"PSD\", \"PSD_monitor\", AT=[0,0,1], RELATIVE=\"sample\") \n",
    "PSD.xwidth = 0.1\n",
    "PSD.yheight = 0.1\n",
    "PSD.nx = 200\n",
    "PSD.ny = 200\n",
    "PSD.filename = '\"PSD.dat\"'\n",
    "PSD.restore_neutron = 1"
   ]
  },
  {
   "cell_type": "code",
   "execution_count": 19,
   "metadata": {},
   "outputs": [],
   "source": [
    "L_mon = instr.add_component(\"L_mon\", \"L_monitor\", RELATIVE=\"PSD\")"
   ]
  },
  {
   "cell_type": "code",
   "execution_count": 20,
   "metadata": {},
   "outputs": [],
   "source": [
    "# Since the wavelength is an instrument parameter, it can be used when setting parameters\n",
    "L_mon.Lmin = \"wavelength - 0.1\"\n",
    "L_mon.Lmax = \"wavelength + 0.1\"; L_mon.nL = 150\n",
    "L_mon.xwidth = 0.1\n",
    "L_mon.yheight = 0.1\n",
    "L_mon.filename = '\"wave.dat\"'\n",
    "L_mon.restore_neutron = 1\n",
    "L_mon.comment = \"Wavelength monitor for narrow range\""
   ]
  },
  {
   "cell_type": "code",
   "execution_count": 21,
   "metadata": {},
   "outputs": [
    {
     "name": "stdout",
     "output_type": "stream",
     "text": [
      "// Wavelength monitor for narrow range\n",
      "COMPONENT L_mon = L_monitor\n",
      "  \u001b[1mnL\u001b[0m = \u001b[1m\u001b[92m150\u001b[0m\u001b[0m [1]\n",
      "  \u001b[1mfilename\u001b[0m = \u001b[1m\u001b[92m\"wave.dat\"\u001b[0m\u001b[0m [string]\n",
      "  \u001b[1mxwidth\u001b[0m = \u001b[1m\u001b[92m0.1\u001b[0m\u001b[0m [m]\n",
      "  \u001b[1myheight\u001b[0m = \u001b[1m\u001b[92m0.1\u001b[0m\u001b[0m [m]\n",
      "  \u001b[1mLmin\u001b[0m = \u001b[1m\u001b[92mwavelength - 0.1\u001b[0m\u001b[0m [AA]\n",
      "  \u001b[1mLmax\u001b[0m = \u001b[1m\u001b[92mwavelength + 0.1\u001b[0m\u001b[0m [AA]\n",
      "  \u001b[1mrestore_neutron\u001b[0m = \u001b[1m\u001b[92m1\u001b[0m\u001b[0m [1]\n",
      "AT [0, 0, 0] RELATIVE PSD\n"
     ]
    }
   ],
   "source": [
    "print(L_mon)"
   ]
  },
  {
   "cell_type": "code",
   "execution_count": 22,
   "metadata": {},
   "outputs": [
    {
     "name": "stdout",
     "output_type": "stream",
     "text": [
      "Source  Source_simple   AT      (0, 0, 0) ABSOLUTE       \n",
      "Guide   Guide_gravity   AT      (0, 0, 2) RELATIVE Source\n",
      "sample  PowderN         AT      (0, 0, 9) RELATIVE Guide \n",
      "PSD_4PI PSD_monitor_4PI AT      (0, 0, 0) RELATIVE sample\n",
      "PSD     PSD_monitor     AT      (0, 0, 1) RELATIVE sample\n",
      "L_mon   L_monitor       AT      (0, 0, 0) RELATIVE PSD   \n"
     ]
    }
   ],
   "source": [
    "instr.show_components() # Lets get an overview of the instrument so far"
   ]
  },
  {
   "cell_type": "code",
   "execution_count": 23,
   "metadata": {},
   "outputs": [
    {
     "name": "stdout",
     "output_type": "stream",
     "text": [
      "double wavelength  = 3  // [AA] Wavelength emmited from source\n"
     ]
    }
   ],
   "source": [
    "instr.show_parameters()"
   ]
  },
  {
   "cell_type": "markdown",
   "metadata": {},
   "source": [
    "# Running the McStas instrument\n",
    "Now we have assembled an instrument and it is time to perform a simulation"
   ]
  },
  {
   "cell_type": "code",
   "execution_count": 24,
   "metadata": {},
   "outputs": [
    {
     "name": "stdout",
     "output_type": "stream",
     "text": [
      "Instrument settings:\n",
      "  ncount:           2.00e+07\n",
      "  mpi:              4\n",
      "  gravity:          True\n",
      "  output_path:      jupyter_demo\n",
      "  run_path:         .\n",
      "  package_path:     /Applications/McStas-2.7.1.app/Contents/Resources/mcstas/2.7.1\n",
      "  executable_path:  /Applications/McStas-2.7.1.app/Contents/Resources/mcstas/2.7.1/bin/\n",
      "  executable:       mcrun\n",
      "  force_compile:    True\n"
     ]
    }
   ],
   "source": [
    "# output_path specifies the foldername, if it already exists an index is added\n",
    "instr.settings(output_path=\"jupyter_demo\", mpi=4, ncount=2E7, gravity=True)\n",
    "instr.show_settings() # Check settings are correct"
   ]
  },
  {
   "cell_type": "code",
   "execution_count": 25,
   "metadata": {},
   "outputs": [
    {
     "name": "stdout",
     "output_type": "stream",
     "text": [
      "double wavelength  = 1.5  // [AA] Wavelength emmited from source\n"
     ]
    }
   ],
   "source": [
    "# Input parameters are set with set_parameters\n",
    "instr.set_parameters(wavelength=1.5)\n",
    "instr.show_parameters()"
   ]
  },
  {
   "cell_type": "code",
   "execution_count": 26,
   "metadata": {},
   "outputs": [
    {
     "name": "stdout",
     "output_type": "stream",
     "text": [
      "INFO: Using directory: \"/Users/madsbertelsen/PaNOSC/McStasScript/github/McStasScript/examples/jupyter_demo\"\n",
      "INFO: Regenerating c-file: jupyter_demo.c\n",
      "CFLAGS=\n",
      "INFO: Recompiling: ./jupyter_demo.out\n",
      "mccode-r.c:1880:1: warning: non-void function does not return a value in all control paths [-Wreturn-type]\n",
      "} /* mcsiminfo_init */\n",
      "^\n",
      "mccode-r.c:2837:3: warning: expression result unused [-Wunused-value]\n",
      "  *t0;\n",
      "  ^~~\n",
      "2 warnings generated.\n",
      "INFO: ===\n",
      "Warning: 510482 events were removed in Component[5] PSD=PSD_monitor()\n",
      "         (negative time, miss next components, rounding errors, Nan, Inf).\n",
      "Warning: 509825 events were removed in Component[5] PSD=PSD_monitor()\n",
      "         (negative time, miss next components, rounding errors, Nan, Inf).\n",
      "Warning: 510622 events were removed in Component[5] PSD=PSD_monitor()\n",
      "         (negative time, miss next components, rounding errors, Nan, Inf).\n",
      "Warning: 511299 events were removed in Component[5] PSD=PSD_monitor()\n",
      "         (negative time, miss next components, rounding errors, Nan, Inf).\n",
      "INFO: Placing instr file copy jupyter_demo.instr in dataset /Users/madsbertelsen/PaNOSC/McStasScript/github/McStasScript/examples/jupyter_demo\n",
      "\n",
      "Simulation 'jupyter_demo' (jupyter_demo.instr): running on 4 nodes (master is 'CI0021617', MPI version 3.1).\n",
      "Opening input file '/Applications/McStas-2.7.1.app/Contents/Resources/mcstas/2.7.1//data/Cu.laz' (Table_Read_Offset)\n",
      "Table from file 'Cu.laz' (block 1) is 19 x 18 (x=1:6), constant step. interpolation: linear\n",
      "  '# TITLE *-Cu-[FM3-M] Otte, H.M.[1961];# CELL 3.615050 3.615050 3.615050 90. ...'\n",
      "PowderN: sample: Reading 19 rows from Cu.laz\n",
      "PowderN: sample: Read 19 reflections from file 'Cu.laz'\n",
      "PowderN: sample: Vc=47.24 [Angs] sigma_abs=15.12 [barn] sigma_inc=2.2 [barn] reflections=Cu.laz\n",
      "PowderN: sample: WARNING: Did not hit sample from inside (inc). ABSORB.\n",
      "PowderN: sample: WARNING: Did not hit sample from inside (coh). ABSORB.\n",
      "PowderN: sample: WARNING: Did not hit sample from inside (coh). ABSORB.\n",
      "Detector: PSD_4PI_I=42446.8 PSD_4PI_ERR=25.7775 PSD_4PI_N=8.59756e+06 \"PSD_4PI.dat\"\n",
      "Detector: PSD_I=35457.5 PSD_ERR=24.9492 PSD_N=4.49112e+06 \"PSD.dat\"\n",
      "Detector: L_mon_I=35457.5 L_mon_ERR=24.9492 L_mon_N=4.49112e+06 \"wave.dat\"\n",
      "PowderN: sample: Info: you may highly improve the computation efficiency by using\n",
      "    SPLIT 8 COMPONENT sample=PowderN(...)\n",
      "  in the instrument description jupyter_demo.instr.\n",
      "loading system configuration\n",
      "\n"
     ]
    }
   ],
   "source": [
    "# The simulation is performed by calling backengine()\n",
    "data = instr.backengine()"
   ]
  },
  {
   "cell_type": "markdown",
   "metadata": {},
   "source": [
    "## Working with the returned data\n",
    "The returned data object is a list of McStasData objects, each containing the results from a monitor.\n",
    "These data objects also contain preferences for how they should be plotted if this is done automatically."
   ]
  },
  {
   "cell_type": "code",
   "execution_count": 28,
   "metadata": {},
   "outputs": [
    {
     "name": "stdout",
     "output_type": "stream",
     "text": [
      "[1.494, 475.1862504]\n",
      "[1.495333333, 474.9090911]\n",
      "[1.496666667, 473.1532749]\n",
      "[1.498, 472.6454829]\n",
      "[1.499333333, 475.884394]\n"
     ]
    }
   ],
   "source": [
    "wavelength_data = ms.name_search(\"L_mon\", data)\n",
    "wavelength_intensity = wavelength_data.Intensity\n",
    "wavelength_xaxis = wavelength_data.xaxis\n",
    "\n",
    "for index in range(70,75):\n",
    "    print([wavelength_xaxis[index], wavelength_intensity[index]])"
   ]
  },
  {
   "cell_type": "markdown",
   "metadata": {},
   "source": [
    "## Plotting the returned data\n",
    "The plot options looks at some metadata in the McStasData for plotting preferences. For this reason these options can be adjusted for individual data files instead of complex syntax for the plotting command."
   ]
  },
  {
   "cell_type": "code",
   "execution_count": null,
   "metadata": {},
   "outputs": [],
   "source": [
    "# Adjusting PSD_4PI plot\n",
    "ms.name_plot_options(\"PSD_4PI\", data, log=1, colormap=\"hot\", orders_of_mag=5)\n",
    "\n",
    "plot = ms.make_sub_plot(data) # Making subplot of our monitors"
   ]
  }
 ],
 "metadata": {
  "kernelspec": {
   "display_name": "Python 3",
   "language": "python",
   "name": "python3"
  },
  "language_info": {
   "codemirror_mode": {
    "name": "ipython",
    "version": 3
   },
   "file_extension": ".py",
   "mimetype": "text/x-python",
   "name": "python",
   "nbconvert_exporter": "python",
   "pygments_lexer": "ipython3",
   "version": "3.8.8"
  }
 },
 "nbformat": 4,
 "nbformat_minor": 2
}
